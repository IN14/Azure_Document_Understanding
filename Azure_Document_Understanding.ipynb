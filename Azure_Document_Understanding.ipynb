{
  "cells": [
    {
      "cell_type": "markdown",
      "metadata": {
        "id": "N9VAL2UGisMc"
      },
      "source": [
        "# Installing required libraries"
      ]
    },
    {
      "cell_type": "code",
      "execution_count": null,
      "metadata": {
        "colab": {
          "base_uri": "https://localhost:8080/"
        },
        "id": "eV0LW-ooWh3J",
        "outputId": "614dc92a-2a7b-4163-e9ea-c4b4976f477b"
      },
      "outputs": [
        {
          "name": "stdout",
          "output_type": "stream",
          "text": [
            "Collecting azure-ai-formrecognizer\n",
            "  Downloading azure_ai_formrecognizer-3.3.3-py3-none-any.whl.metadata (64 kB)\n",
            "\u001b[?25l     \u001b[90m━━━━━━━━━━━━━━━━━━━━━━━━━━━━━━━━━━━━━━━━\u001b[0m \u001b[32m0.0/64.6 kB\u001b[0m \u001b[31m?\u001b[0m eta \u001b[36m-:--:--\u001b[0m\r\u001b[2K     \u001b[90m━━━━━━━━━━━━━━━━━━━━━━━━━━━━━━━━━━━━━━━━\u001b[0m \u001b[32m64.6/64.6 kB\u001b[0m \u001b[31m2.6 MB/s\u001b[0m eta \u001b[36m0:00:00\u001b[0m\n",
            "\u001b[?25hCollecting azure-core>=1.23.0 (from azure-ai-formrecognizer)\n",
            "  Downloading azure_core-1.32.0-py3-none-any.whl.metadata (39 kB)\n",
            "Collecting msrest>=0.6.21 (from azure-ai-formrecognizer)\n",
            "  Downloading msrest-0.7.1-py3-none-any.whl.metadata (21 kB)\n",
            "Collecting azure-common>=1.1 (from azure-ai-formrecognizer)\n",
            "  Downloading azure_common-1.1.28-py2.py3-none-any.whl.metadata (5.0 kB)\n",
            "Requirement already satisfied: typing-extensions>=4.0.1 in /usr/local/lib/python3.10/dist-packages (from azure-ai-formrecognizer) (4.12.2)\n",
            "Requirement already satisfied: requests>=2.21.0 in /usr/local/lib/python3.10/dist-packages (from azure-core>=1.23.0->azure-ai-formrecognizer) (2.32.3)\n",
            "Requirement already satisfied: six>=1.11.0 in /usr/local/lib/python3.10/dist-packages (from azure-core>=1.23.0->azure-ai-formrecognizer) (1.17.0)\n",
            "Requirement already satisfied: certifi>=2017.4.17 in /usr/local/lib/python3.10/dist-packages (from msrest>=0.6.21->azure-ai-formrecognizer) (2024.12.14)\n",
            "Collecting isodate>=0.6.0 (from msrest>=0.6.21->azure-ai-formrecognizer)\n",
            "  Downloading isodate-0.7.2-py3-none-any.whl.metadata (11 kB)\n",
            "Requirement already satisfied: requests-oauthlib>=0.5.0 in /usr/local/lib/python3.10/dist-packages (from msrest>=0.6.21->azure-ai-formrecognizer) (1.3.1)\n",
            "Requirement already satisfied: charset-normalizer<4,>=2 in /usr/local/lib/python3.10/dist-packages (from requests>=2.21.0->azure-core>=1.23.0->azure-ai-formrecognizer) (3.4.1)\n",
            "Requirement already satisfied: idna<4,>=2.5 in /usr/local/lib/python3.10/dist-packages (from requests>=2.21.0->azure-core>=1.23.0->azure-ai-formrecognizer) (3.10)\n",
            "Requirement already satisfied: urllib3<3,>=1.21.1 in /usr/local/lib/python3.10/dist-packages (from requests>=2.21.0->azure-core>=1.23.0->azure-ai-formrecognizer) (2.3.0)\n",
            "Requirement already satisfied: oauthlib>=3.0.0 in /usr/local/lib/python3.10/dist-packages (from requests-oauthlib>=0.5.0->msrest>=0.6.21->azure-ai-formrecognizer) (3.2.2)\n",
            "Downloading azure_ai_formrecognizer-3.3.3-py3-none-any.whl (301 kB)\n",
            "\u001b[2K   \u001b[90m━━━━━━━━━━━━━━━━━━━━━━━━━━━━━━━━━━━━━━━━\u001b[0m \u001b[32m301.4/301.4 kB\u001b[0m \u001b[31m13.5 MB/s\u001b[0m eta \u001b[36m0:00:00\u001b[0m\n",
            "\u001b[?25hDownloading azure_common-1.1.28-py2.py3-none-any.whl (14 kB)\n",
            "Downloading azure_core-1.32.0-py3-none-any.whl (198 kB)\n",
            "\u001b[2K   \u001b[90m━━━━━━━━━━━━━━━━━━━━━━━━━━━━━━━━━━━━━━━━\u001b[0m \u001b[32m198.9/198.9 kB\u001b[0m \u001b[31m19.1 MB/s\u001b[0m eta \u001b[36m0:00:00\u001b[0m\n",
            "\u001b[?25hDownloading msrest-0.7.1-py3-none-any.whl (85 kB)\n",
            "\u001b[2K   \u001b[90m━━━━━━━━━━━━━━━━━━━━━━━━━━━━━━━━━━━━━━━━\u001b[0m \u001b[32m85.4/85.4 kB\u001b[0m \u001b[31m8.1 MB/s\u001b[0m eta \u001b[36m0:00:00\u001b[0m\n",
            "\u001b[?25hDownloading isodate-0.7.2-py3-none-any.whl (22 kB)\n",
            "Installing collected packages: azure-common, isodate, azure-core, msrest, azure-ai-formrecognizer\n",
            "Successfully installed azure-ai-formrecognizer-3.3.3 azure-common-1.1.28 azure-core-1.32.0 isodate-0.7.2 msrest-0.7.1\n"
          ]
        }
      ],
      "source": [
        "pip install --upgrade azure-ai-formrecognizer"
      ]
    },
    {
      "cell_type": "markdown",
      "metadata": {
        "id": "j6iuYu17dqaN"
      },
      "source": [
        "# Importing Modules"
      ]
    },
    {
      "cell_type": "code",
      "execution_count": null,
      "metadata": {
        "id": "hQdfKIyEdn5c"
      },
      "outputs": [],
      "source": [
        "from azure.ai.formrecognizer import DocumentAnalysisClient\n",
        "from azure.core.credentials import AzureKeyCredential"
      ]
    },
    {
      "cell_type": "markdown",
      "metadata": {
        "id": "Iu8n_XMviG8p"
      },
      "source": [
        "# Class Definition with page filteration"
      ]
    },
    {
      "cell_type": "code",
      "execution_count": null,
      "metadata": {
        "id": "xX2keAnabIKV"
      },
      "outputs": [],
      "source": [
        "def analyze_Filtered_layout(file_path, model_id, pages=None):\n",
        "    #endpoint = \"Enter your end point\"\n",
        "    #key = \"Enter your key\"\n",
        "\n",
        "    document_analysis_client = DocumentAnalysisClient(endpoint=endpoint, credential=AzureKeyCredential(key))\n",
        "\n",
        "    with open(file_path, \"rb\") as f:\n",
        "        poller = document_analysis_client.begin_analyze_document(\n",
        "            model_id=model_id, document=f.read(), pages=pages\n",
        "        )\n",
        "    result = poller.result()\n",
        "\n",
        "    for analyzed_document in result.documents:\n",
        "        print(f\"Document is of type: {analyzed_document.doc_type}\")\n",
        "\n",
        "        for name, field in analyzed_document.fields.items():\n",
        "            print(f\"{name}:{field.value} and confidence: {field.confidence}\")"
      ]
    },
    {
      "cell_type": "markdown",
      "metadata": {
        "id": "lY8KBhymdZxQ"
      },
      "source": [
        "# Class Definition without page filteration"
      ]
    },
    {
      "cell_type": "code",
      "execution_count": null,
      "metadata": {
        "id": "iz_WbW24ZblT"
      },
      "outputs": [],
      "source": [
        "def analyze_layout(file_path, model_id):\n",
        "    #endpoint = \"Enter your end point\"\n",
        "    #key = \"Enter your key\"\n",
        "\n",
        "    document_analysis_client = DocumentAnalysisClient(endpoint=endpoint, credential=AzureKeyCredential(key))\n",
        "\n",
        "    with open(file_path, \"rb\") as f:\n",
        "        poller = document_analysis_client.begin_analyze_document(model_id, document=f.read())\n",
        "    result = poller.result()\n",
        "\n",
        "    for analyzed_document in result.documents:\n",
        "        print(f\"Document is of type: {analyzed_document.doc_type}\")\n",
        "        for name, field in analyzed_document.fields.items():\n",
        "            print(f\"{name}:{field.value} and confidence: {field.confidence}\")"
      ]
    },
    {
      "cell_type": "markdown",
      "metadata": {
        "id": "ApRL7cN9NCZl"
      },
      "source": [
        "# First Case"
      ]
    },
    {
      "cell_type": "code",
      "execution_count": null,
      "metadata": {
        "colab": {
          "base_uri": "https://localhost:8080/"
        },
        "id": "ms74dh9ddUdY",
        "outputId": "db9dec27-db39-4bc9-db93-900e92a1e7f1"
      },
      "outputs": [
        {
          "name": "stdout",
          "output_type": "stream",
          "text": [
            "Document is of type: FirstCaseModel\n",
            "Bisheriger_Vertragspartner_Frau_Option:unselected and confidence: 0.951\n",
            "Bisheriger_Vertragspartner_Herr_Option:unselected and confidence: 0.952\n",
            "Bisheriger_Vertragspartner_Frima_Option:selected and confidence: 0.958\n",
            "Bisheriger_Vertragspartner_Name:Firma and confidence: 0.946\n",
            "Bisheriger_Vertragspartner_Vorname:kein Vorname and confidence: 0.949\n",
            "Bisheriger_Vertragspartner_StreetNo:Str. des 17. Juni and confidence: 0.946\n",
            "Bisheriger_Vertragspartner_PLZ:Berlin 220012255 and confidence: 0.95\n",
            "Bisheriger_Vertragspartner_Kundennr:36985245678ß and confidence: 0.941\n",
            "Bisheriger_Vertragspartner_TransferedNumber:520 /\n",
            "536898995 and confidence: 0.639\n",
            "Bisheriger_Vertragspartner_OtherTransferedNumbers_Option:unselected and confidence: 0.948\n",
            "Künftiger_Vertragspartner_Private_FrauOption:unselected and confidence: 0.95\n",
            "KünftigerVertragspartner_Private_HerrOption:unselected and confidence: 0.934\n",
            "KünftigerVertragspartner_Private_BirthDate:05\n",
            "07\n",
            "1875 and confidence: 0.937\n",
            "KünftigerVertragspartner_Private_Name:Emila and confidence: 0.958\n",
            "KünftigerVertragspartner_Private_VorName:Esel and confidence: 0.953\n",
            "KünftigerVertragspartner_Private_StreetNo:Dorfstrada and confidence: 0.956\n",
            "KünftigerVertragspartner_Private_PLZ:B-4575 Oer-Erkenschwick and confidence: 0.939\n",
            "KünftigerVertragspartner_Frimen_FrimaOption:selected and confidence: 0.942\n",
            "KünftigerVertragspartner_Frimen_Ansprechpartner:Frau Esel and confidence: 0.943\n",
            "KünftigerVertragspartner_Frimen_Telefon:Telefon and confidence: 0.956\n",
            "KünftigerVertragspartner_Frimen_HRB:unselected and confidence: 0.952\n",
            "KünftigerVertragspartner_Frimen_PR:unselected and confidence: 0.952\n",
            "KünftigerVertragspartner_Frimen_GR:unselected and confidence: 0.953\n",
            "KünftigerVertragspartner_Frimen_VR:selected and confidence: 0.959\n",
            "KünftigerVertragspartner_Frimen_HRA:unselected and confidence: 0.95\n",
            "KünftigerVertragspartner_Private_IdentityCardNo:None and confidence: 0.929\n",
            "KünftigerVertragspartner_Frimen_Name:None and confidence: 0.934\n",
            "KünftigerVertragspartner_Frimen_StreetNo:None and confidence: 0.913\n",
            "KünftigerVertragspartner_Frimen_PLZ:None and confidence: 0.932\n"
          ]
        }
      ],
      "source": [
        "#analyze_Filtered_layout(\"your document path\", \"your trained model name\",page number)"
      ]
    },
    {
      "cell_type": "code",
      "execution_count": null,
      "metadata": {
        "id": "gvjG5L1waGoP"
      },
      "outputs": [],
      "source": [
        "#analyze_layout(\"/content/01.pdf\", \"FirstCaseModel\")"
      ]
    }
  ],
  "metadata": {
    "accelerator": "GPU",
    "colab": {
      "collapsed_sections": [
        "N9VAL2UGisMc",
        "j6iuYu17dqaN",
        "Iu8n_XMviG8p",
        "lY8KBhymdZxQ",
        "ApRL7cN9NCZl"
      ],
      "gpuType": "T4",
      "provenance": []
    },
    "kernelspec": {
      "display_name": "Python 3",
      "name": "python3"
    },
    "language_info": {
      "name": "python"
    }
  },
  "nbformat": 4,
  "nbformat_minor": 0
}
